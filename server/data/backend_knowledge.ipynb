{
 "cells": [
  {
   "cell_type": "code",
   "execution_count": 42,
   "id": "sized-promotion",
   "metadata": {},
   "outputs": [],
   "source": [
    "from datetime import datetime, timedelta\n",
    "import dateutil.parser\n",
    "import time\n",
    "from os import walk\n",
    "\n",
    "import pandas as pd\n",
    "import numpy as np\n",
    "import networkx as nx\n",
    "import re\n",
    "\n",
    "import scipy.cluster.hierarchy as sch\n",
    "import matplotlib.pyplot as plt\n",
    "import seaborn as sns\n",
    "\n",
    "import simplejson\n",
    "from collections import defaultdict\n",
    "import json\n",
    "import math\n",
    "import itertools\n",
    "save = False"
   ]
  },
  {
   "cell_type": "markdown",
   "id": "wireless-region",
   "metadata": {},
   "source": [
    "# 1. Knowledge graph network"
   ]
  },
  {
   "cell_type": "code",
   "execution_count": 2,
   "id": "expanded-motivation",
   "metadata": {},
   "outputs": [],
   "source": [
    "stock_info_list = pd.read_feather('stock_list.ftr')\n",
    "industry_list = pd.read_feather('industry_list.ftr')\n",
    "index_industry_list = pd.read_feather('index_industry_list.ftr')\n",
    "concept_list = pd.read_feather('concept_list.ftr')"
   ]
  },
  {
   "cell_type": "code",
   "execution_count": 3,
   "id": "addressed-april",
   "metadata": {},
   "outputs": [
    {
     "name": "stdout",
     "output_type": "stream",
     "text": [
      "CPU times: user 3.31 s, sys: 63.5 ms, total: 3.37 s\n",
      "Wall time: 3.37 s\n"
     ]
    },
    {
     "data": {
      "text/plain": [
       "{'node': ['000779', '600272'], 'edge': 'Charlie Chang'}"
      ]
     },
     "execution_count": 3,
     "metadata": {},
     "output_type": "execute_result"
    }
   ],
   "source": [
    "%%time\n",
    "### Human: Management ###\n",
    "\n",
    "if not save:\n",
    "    stk_managers_list = pd.read_feather('raw/stk_managers_list.ftr')\n",
    "else:\n",
    "    stk_managers_list = pd.read_csv('raw/stk_managers_list.csv')[['ts_code', 'name', 'title', 'birthday']]\n",
    "    stk_managers_list.ts_code = stk_managers_list.ts_code.apply(lambda x: x[:6])\n",
    "    stk_managers_list = stk_managers_list.merge(stock_info_list.ts_code) # filter to mainboard\n",
    "    stk_managers_list.birthday = stk_managers_list.birthday.fillna(0).apply(lambda x: x if x < 2100 else x/100).apply(lambda x: x if x < 2000 else x/100).astype(int) # clean birthday\n",
    "    stk_managers_list = stk_managers_list.groupby(['name', 'birthday', 'ts_code']).agg(list).reset_index() # aggregate the title information\n",
    "    stk_managers_list.to_feather('raw/stk_managers_list.ftr')\n",
    "\n",
    "stk_managers_edges = [\n",
    "    {'node': managers[2], 'edge': managers[0]} \n",
    "    for managers in stk_managers_list.drop('title', axis=1).groupby(['name', 'birthday']).agg(list).reset_index().values\n",
    "    if len(managers[2]) > 1\n",
    "]\n",
    "stk_managers_edges[1]"
   ]
  },
  {
   "cell_type": "code",
   "execution_count": 4,
   "id": "funded-swift",
   "metadata": {},
   "outputs": [
    {
     "name": "stdout",
     "output_type": "stream",
     "text": [
      "CPU times: user 1.1 s, sys: 40.1 ms, total: 1.14 s\n",
      "Wall time: 1.13 s\n"
     ]
    },
    {
     "data": {
      "text/plain": [
       "{'node': ['000012', '000488', '000539', '001872'],\n",
       " 'edge': 'BBH A/C VANGUARD EMERGING MARKETS STOCK INDEX FUND'}"
      ]
     },
     "execution_count": 4,
     "metadata": {},
     "output_type": "execute_result"
    }
   ],
   "source": [
    "%%time\n",
    "### Human: Investors ###\n",
    "if not save:\n",
    "    stk_holders_list = pd.read_feather('raw/stk_holders_list.ftr')\n",
    "else:\n",
    "    stk_holders_list = pd.read_csv('raw/stk_holders_list.csv')\n",
    "    stk_holders_list.ts_code = stk_holders_list.ts_code.apply(lambda x: x[:6])\n",
    "    stk_holders_list.holder_name = stk_holders_list.holder_name.str.replace('#', '')\n",
    "    stk_holders_list = stk_holders_list[stk_holders_list.duplicated(['ts_code', 'holder_name'], keep=False)]\n",
    "    stk_holders_list = stk_holders_list.drop('ann_date', axis=1).groupby(['ts_code', 'holder_name']).agg(list).reset_index()\n",
    "    stk_holders_list.to_feather('stk_holders_list.ftr')\n",
    "\n",
    "stk_holders_edges = [\n",
    "    {'node': holders[1], 'edge': holders[0]} \n",
    "    for holders in stk_holders_list[['ts_code', 'holder_name']].groupby('holder_name').agg(list).reset_index().values\n",
    "    if len(holders[1]) > 1\n",
    "]\n",
    "stk_holders_edges[0]"
   ]
  },
  {
   "cell_type": "code",
   "execution_count": 5,
   "id": "capital-korea",
   "metadata": {},
   "outputs": [
    {
     "name": "stdout",
     "output_type": "stream",
     "text": [
      "CPU times: user 18.5 ms, sys: 1.85 ms, total: 20.3 ms\n",
      "Wall time: 19 ms\n"
     ]
    },
    {
     "data": {
      "text/plain": [
       "{'node': ['000861', '000882', '000007'], 'edge': 'L3-一般物业经营'}"
      ]
     },
     "execution_count": 5,
     "metadata": {},
     "output_type": "execute_result"
    }
   ],
   "source": [
    "%%time\n",
    "### Business: Industries ###\n",
    "\n",
    "industry_edges = [\n",
    "    {'node': industry[2], 'edge': industry[1]+'-'+industry[0]} \n",
    "    for industry in industry_list[['industry_name', 'level', 'ts_code']].groupby(['industry_name', 'level']).agg(list).reset_index().values\n",
    "    if len(industry[2]) > 1\n",
    "]\n",
    "industry_edges[2]"
   ]
  },
  {
   "cell_type": "code",
   "execution_count": 6,
   "id": "living-harrison",
   "metadata": {},
   "outputs": [
    {
     "data": {
      "text/plain": [
       "{'node': ['000821',\n",
       "  '002079',\n",
       "  '002129',\n",
       "  '002218',\n",
       "  '002350',\n",
       "  '002610',\n",
       "  '600438',\n",
       "  '600546',\n",
       "  '601137',\n",
       "  '603396'],\n",
       " 'edge': 'HIT电池'}"
      ]
     },
     "execution_count": 6,
     "metadata": {},
     "output_type": "execute_result"
    }
   ],
   "source": [
    "### Business: Concepts ###\n",
    "\n",
    "concept_edges = [\n",
    "    {'node': concept[1], 'edge': concept[0]} \n",
    "    for concept in concept_list[['name', 'ts_code']].groupby('name').agg(list).reset_index().values\n",
    "    if len(concept[1]) > 1\n",
    "]\n",
    "concept_edges[4]"
   ]
  },
  {
   "cell_type": "code",
   "execution_count": 7,
   "id": "stylish-monitoring",
   "metadata": {},
   "outputs": [
    {
     "data": {
      "text/plain": [
       "{'node': ['002211', '603260'], 'edge': '107胶'}"
      ]
     },
     "execution_count": 7,
     "metadata": {},
     "output_type": "execute_result"
    }
   ],
   "source": [
    "### Business: Main Business ###\n",
    "\n",
    "if not save:\n",
    "    fina_mainbz = pd.read_feather('raw/fina_mainbz.ftr')\n",
    "else:\n",
    "    fina_mainbz = pd.read_csv('raw/fina_mainbz.csv')\n",
    "    fina_mainbz.ts_code = fina_mainbz.ts_code.apply(lambda x: x[:6])\n",
    "    fina_mainbz.bz_item = fina_mainbz.bz_item.str.replace('\\(|\\)|（|）|-|\\\"|、|:|#|\\'| |/|%|″|、|\\u3000', '', regex=True)\n",
    "    fina_mainbz.bz_item = fina_mainbz.bz_item.str.replace('主营|其他|其它|地区|区域|销售|服务|收入|产品|行业|产业|业务|企业|及|代理|托管|受托', '', regex=True)\n",
    "    fina_mainbz.bz_item = fina_mainbz.bz_item.str.replace('业$|手续费|利息|类$|.*[子母]公司.*', '', regex=True)\n",
    "    fina_mainbz.bz_item = fina_mainbz.bz_item.str.replace('^\\d*$', '', regex=True)\n",
    "    fina_mainbz.bz_item = fina_mainbz.bz_item.str.replace('.*[重组及之]*前.*|公司$|相关$|系列$|与', '', regex=True)\n",
    "    fina_mainbz.bz_item = fina_mainbz.bz_item.str.replace('[东南西北境区以山广除内外华中国大陆]*$', '', regex=True)\n",
    "    fina_mainbz.bz_item = fina_mainbz.bz_item.str.replace('^[行工商光物劳云农类新老印种副化二一省热辅管果内门专线实产海防和险三I政附会企态旅港保性KV梁财洲]$', '', regex=True)\n",
    "    fina_mainbz.bz_item = fina_mainbz.bz_item.str.replace('[东南西北区以除内陕外华中国大陆美江河海上下京]*$', '', regex=True)\n",
    "    fina_mainbz.bz_item = fina_mainbz.bz_item.str.replace('[非青韩浙德]$', '', regex=True)\n",
    "    fina_mainbz.bz_item = fina_mainbz.bz_item.str.replace('内部抵销|佣金', '', regex=True)\n",
    "    fina_mainbz = fina_mainbz.query('bz_item != \"\"').reset_index(drop=True)\n",
    "    fina_mainbz.to_feather('raw/fina_mainbz.ftr')\n",
    "\n",
    "fina_mainbz_edges = [\n",
    "    {'node': mainbz[1], 'edge': mainbz[0]} \n",
    "    for mainbz in fina_mainbz[['ts_code', 'bz_item']].drop_duplicates().groupby('bz_item').agg(list).reset_index().values\n",
    "    if len(mainbz[1]) > 1\n",
    "]\n",
    "fina_mainbz_edges[0]"
   ]
  },
  {
   "cell_type": "code",
   "execution_count": 8,
   "id": "adaptive-midnight",
   "metadata": {},
   "outputs": [
    {
     "data": {
      "text/plain": [
       "{'node': ['000663', '000732', '002110', '002679'], 'edge': '三明市'}"
      ]
     },
     "execution_count": 8,
     "metadata": {},
     "output_type": "execute_result"
    }
   ],
   "source": [
    "### Location: Province and city ###\n",
    "\n",
    "province_edges = [\n",
    "    {'node': province[1], 'edge': province[0]} \n",
    "    for province in stock_info_list[['ts_code', 'province']].groupby('province').agg(list).reset_index().values\n",
    "    if len(province[1]) > 1\n",
    "]\n",
    "city_edges = [\n",
    "    {'node': city[1], 'edge': city[0]} \n",
    "    for city in stock_info_list[['ts_code', 'city']].groupby('city').agg(list).reset_index().values\n",
    "    if len(city[1]) > 1\n",
    "]\n",
    "city_edges[1]"
   ]
  },
  {
   "cell_type": "code",
   "execution_count": 35,
   "id": "raised-field",
   "metadata": {},
   "outputs": [
    {
     "name": "stdout",
     "output_type": "stream",
     "text": [
      "2875 2058691\n",
      "CPU times: user 28.6 s, sys: 1.92 s, total: 30.5 s\n",
      "Wall time: 30.6 s\n"
     ]
    }
   ],
   "source": [
    "%%time\n",
    "### Knowledge Graph ###\n",
    "\n",
    "if not save:\n",
    "    G = nx.read_gpickle('knowledge_graph.pkl')\n",
    "else:\n",
    "    G = nx.Graph()\n",
    "    stock_info_dict = stock_info_list[['ts_code', 'name', 'industry', 'area']].set_index('ts_code').to_dict(orient='index')\n",
    "    G.add_nodes_from([(stock, stock_info_dict[stock]) for stock in stock_info_list.ts_code.values])\n",
    "    edge_sets = [\n",
    "        (city_edges, 'city'), \n",
    "        (province_edges, 'province'), \n",
    "        (industry_edges, 'industry'), \n",
    "        (concept_edges, 'concept'), \n",
    "#         (fina_mainbz_edges, 'mainbz'), \n",
    "        (stk_holders_edges, 'investor'), \n",
    "        (stk_managers_edges, 'management')\n",
    "    ]\n",
    "\n",
    "    for edge_set, set_name in edge_sets:\n",
    "        for edge in edge_set:\n",
    "            for n1, n2 in itertools.combinations(edge['node'], 2):\n",
    "                if n2 not in G[n1]:\n",
    "                    G.add_edge(n1, n2)\n",
    "                if set_name not in G[n1][n2]:\n",
    "                    G[n1][n2][set_name] = [edge['edge']]\n",
    "                else:\n",
    "                    G[n1][n2][set_name] = G[n1][n2][set_name]+[edge['edge']]\n",
    "    nx.write_gpickle(G, 'knowledge_graph.pkl')\n",
    "                \n",
    "print(G.number_of_nodes(), G.number_of_edges())"
   ]
  },
  {
   "cell_type": "code",
   "execution_count": 46,
   "id": "improving-homework",
   "metadata": {},
   "outputs": [
    {
     "name": "stdout",
     "output_type": "stream",
     "text": [
      "CPU times: user 5.32 ms, sys: 83 µs, total: 5.41 ms\n",
      "Wall time: 5.37 ms\n"
     ]
    }
   ],
   "source": [
    "%%time\n",
    "\n",
    "count = {key: defaultdict(int) for key in ['city', 'province', 'industry', 'concept', 'investor', 'management']}\n",
    "for link in G['000538']:\n",
    "    for k, v in G['000538'][link].items():\n",
    "        for c in v:\n",
    "            count[k][c]+=1"
   ]
  },
  {
   "cell_type": "code",
   "execution_count": 55,
   "id": "liked-instrumentation",
   "metadata": {},
   "outputs": [
    {
     "data": {
      "text/plain": [
       "'{\"city\": {\"昆明市\": 23}, \"province\": {\"云南\": 32}, \"industry\": {\"L1-医药生物\": 217, \"L2-中药\": 59, \"L3-中药\": 59}, \"concept\": {\"标普道琼斯A股\": 1097, \"深股通\": 597, \"融资融券\": 1395, \"健康中国\": 66, \"工业大麻\": 39, \"沪深300样本股\": 270, \"MSCI概念\": 468, \"同花顺漂亮100\": 76, \"超级品牌\": 24, \"参股券商\": 115, \"口罩\": 100}, \"investor\": {\"中国证券金融股份有限公司\": 451, \"中央汇金资产管理有限责任公司\": 822, \"香港中央结算有限公司(陆股通)\": 1049, \"云南合和(集团)股份有限公司\": 9, \"香港金融管理局-自有资金\": 16, \"全国社保基金四一四组合\": 32, \"江苏鱼跃科技发展有限公司\": 3, \"全国社保基金一一二组合\": 24, \"全国社保基金一零八组合\": 43, \"云南白药控股有限公司\": 1, \"陈发树\": 4, \"新华都实业集团股份有限公司\": 2, \"中国平安人寿保险股份有限公司-自有资金\": 2}, \"management\": {\"尹晓冰\": 6, \"汪戎\": 1, \"纳鹏杰\": 7, \"龙江\": 1, \"李双友\": 5, \"杨发甲\": 3, \"刘会疆\": 3, \"杨益清\": 1, \"潘以文\": 1, \"王明辉\": 2, \"王雷\": 2, \"黄艾农\": 1, \"任德权\": 3, \"项兵\": 6, \"郝小江\": 1, \"林瑞超\": 1, \"吴群\": 3, \"赵勇\": 1, \"王方华\": 13, \"宋成立\": 2, \"王化成\": 9, \"王建华\": 2, \"邱晓华\": 4, \"曲晓辉\": 4, \"陈小悦\": 8, \"张萌\": 1, \"吴伟\": 1, \"刘劲\": 2, \"谭跃\": 1, \"徐飞\": 3, \"戴扬\": 2}}'"
      ]
     },
     "execution_count": 55,
     "metadata": {},
     "output_type": "execute_result"
    }
   ],
   "source": [
    "simplejson.dumps({k: dict(v)  for k, v in count.items()}, ensure_ascii=False, ignore_nan=True)"
   ]
  },
  {
   "cell_type": "code",
   "execution_count": null,
   "id": "interstate-behavior",
   "metadata": {},
   "outputs": [],
   "source": []
  }
 ],
 "metadata": {
  "kernelspec": {
   "display_name": "Python 3",
   "language": "python",
   "name": "python3"
  },
  "language_info": {
   "codemirror_mode": {
    "name": "ipython",
    "version": 3
   },
   "file_extension": ".py",
   "mimetype": "text/x-python",
   "name": "python",
   "nbconvert_exporter": "python",
   "pygments_lexer": "ipython3",
   "version": "3.8.5"
  }
 },
 "nbformat": 4,
 "nbformat_minor": 5
}
